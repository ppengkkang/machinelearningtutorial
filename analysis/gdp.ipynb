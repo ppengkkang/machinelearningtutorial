{
  "nbformat": 4,
  "nbformat_minor": 0,
  "metadata": {
    "colab": {
      "name": "gdp.ipynb",
      "version": "0.3.2",
      "provenance": []
    },
    "kernelspec": {
      "display_name": "Python 3",
      "language": "python",
      "name": "python3"
    }
  },
  "cells": [
    {
      "metadata": {
        "id": "JU-dTJmu6B8p",
        "colab_type": "code",
        "colab": {}
      },
      "cell_type": "code",
      "source": [
        "# -*- coding: utf-8 -*-\n",
        "import numpy as np\n",
        "import pandas as pd\n",
        "%matplotlib inline"
      ],
      "execution_count": 0,
      "outputs": []
    },
    {
      "metadata": {
        "scrolled": true,
        "id": "j6xbzRAA6B8t",
        "colab_type": "code",
        "colab": {}
      },
      "cell_type": "code",
      "source": [
        "# comment\n",
        "origin_data = pd.read_csv('../data/gdp/API_NY.GDP.PCAP.CD_DS2_zh_csv_v2_9994242.csv')\n",
        "#origin_data = pd.read_csv('../data/gdp/API_NY.GDP.PCAP.CD_DS2_zh_csv_v2_9994242.csv', usecols=['Country Name','2014','2015','2016','2017'])"
      ],
      "execution_count": 0,
      "outputs": []
    },
    {
      "metadata": {
        "id": "VNIasLxw6B8w",
        "colab_type": "code",
        "colab": {}
      },
      "cell_type": "code",
      "source": [
        "data = origin_data.copy()\n",
        "data = data.fillna(0)\n",
        "data = data[data['Country Code'].isin(['CHN','USA','JPN'])]\n",
        "data_f = data.iloc[:,4:-1]"
      ],
      "execution_count": 0,
      "outputs": []
    },
    {
      "metadata": {
        "id": "-XV22ALR6B8x",
        "colab_type": "code",
        "colab": {},
        "outputId": "2e67818b-9960-4782-be0f-0673beb54e83"
      },
      "cell_type": "code",
      "source": [
        "data"
      ],
      "execution_count": 0,
      "outputs": [
        {
          "output_type": "execute_result",
          "data": {
            "text/html": [
              "<div>\n",
              "<style scoped>\n",
              "    .dataframe tbody tr th:only-of-type {\n",
              "        vertical-align: middle;\n",
              "    }\n",
              "\n",
              "    .dataframe tbody tr th {\n",
              "        vertical-align: top;\n",
              "    }\n",
              "\n",
              "    .dataframe thead th {\n",
              "        text-align: right;\n",
              "    }\n",
              "</style>\n",
              "<table border=\"1\" class=\"dataframe\">\n",
              "  <thead>\n",
              "    <tr style=\"text-align: right;\">\n",
              "      <th></th>\n",
              "      <th>Country Name</th>\n",
              "      <th>Country Code</th>\n",
              "      <th>Indicator Name</th>\n",
              "      <th>Indicator Code</th>\n",
              "      <th>1960</th>\n",
              "      <th>1961</th>\n",
              "      <th>1962</th>\n",
              "      <th>1963</th>\n",
              "      <th>1964</th>\n",
              "      <th>1965</th>\n",
              "      <th>...</th>\n",
              "      <th>2008</th>\n",
              "      <th>2009</th>\n",
              "      <th>2010</th>\n",
              "      <th>2011</th>\n",
              "      <th>2012</th>\n",
              "      <th>2013</th>\n",
              "      <th>2014</th>\n",
              "      <th>2015</th>\n",
              "      <th>2016</th>\n",
              "      <th>2017</th>\n",
              "    </tr>\n",
              "  </thead>\n",
              "  <tbody>\n",
              "    <tr>\n",
              "      <th>38</th>\n",
              "      <td>中国</td>\n",
              "      <td>CHN</td>\n",
              "      <td>人均 GDP（现价美元）</td>\n",
              "      <td>NY.GDP.PCAP.CD</td>\n",
              "      <td>89.520542</td>\n",
              "      <td>75.805838</td>\n",
              "      <td>70.909412</td>\n",
              "      <td>74.313643</td>\n",
              "      <td>85.498555</td>\n",
              "      <td>98.486778</td>\n",
              "      <td>...</td>\n",
              "      <td>3471.248054</td>\n",
              "      <td>3838.433972</td>\n",
              "      <td>4560.512586</td>\n",
              "      <td>5633.795717</td>\n",
              "      <td>6337.883323</td>\n",
              "      <td>7077.770765</td>\n",
              "      <td>7683.502613</td>\n",
              "      <td>8069.213024</td>\n",
              "      <td>8117.267465</td>\n",
              "      <td>8826.994096</td>\n",
              "    </tr>\n",
              "    <tr>\n",
              "      <th>117</th>\n",
              "      <td>日本</td>\n",
              "      <td>JPN</td>\n",
              "      <td>人均 GDP（现价美元）</td>\n",
              "      <td>NY.GDP.PCAP.CD</td>\n",
              "      <td>478.995340</td>\n",
              "      <td>563.586760</td>\n",
              "      <td>633.640315</td>\n",
              "      <td>717.866915</td>\n",
              "      <td>835.657253</td>\n",
              "      <td>919.776688</td>\n",
              "      <td>...</td>\n",
              "      <td>39339.297570</td>\n",
              "      <td>40855.175640</td>\n",
              "      <td>44507.676390</td>\n",
              "      <td>48167.997270</td>\n",
              "      <td>48603.476650</td>\n",
              "      <td>40454.447460</td>\n",
              "      <td>38109.412110</td>\n",
              "      <td>34567.745680</td>\n",
              "      <td>38972.340640</td>\n",
              "      <td>38428.097320</td>\n",
              "    </tr>\n",
              "    <tr>\n",
              "      <th>249</th>\n",
              "      <td>美国</td>\n",
              "      <td>USA</td>\n",
              "      <td>人均 GDP（现价美元）</td>\n",
              "      <td>NY.GDP.PCAP.CD</td>\n",
              "      <td>3007.123445</td>\n",
              "      <td>3066.562869</td>\n",
              "      <td>3243.843078</td>\n",
              "      <td>3374.515171</td>\n",
              "      <td>3573.941185</td>\n",
              "      <td>3827.527110</td>\n",
              "      <td>...</td>\n",
              "      <td>48401.427340</td>\n",
              "      <td>47001.555350</td>\n",
              "      <td>48375.406950</td>\n",
              "      <td>49793.713520</td>\n",
              "      <td>51450.959110</td>\n",
              "      <td>52782.086510</td>\n",
              "      <td>54696.726170</td>\n",
              "      <td>56443.817240</td>\n",
              "      <td>57588.538070</td>\n",
              "      <td>59531.661960</td>\n",
              "    </tr>\n",
              "  </tbody>\n",
              "</table>\n",
              "<p>3 rows × 62 columns</p>\n",
              "</div>"
            ],
            "text/plain": [
              "    Country Name Country Code Indicator Name  Indicator Code         1960  \\\n",
              "38            中国          CHN   人均 GDP（现价美元）  NY.GDP.PCAP.CD    89.520542   \n",
              "117           日本          JPN   人均 GDP（现价美元）  NY.GDP.PCAP.CD   478.995340   \n",
              "249           美国          USA   人均 GDP（现价美元）  NY.GDP.PCAP.CD  3007.123445   \n",
              "\n",
              "            1961         1962         1963         1964         1965  \\\n",
              "38     75.805838    70.909412    74.313643    85.498555    98.486778   \n",
              "117   563.586760   633.640315   717.866915   835.657253   919.776688   \n",
              "249  3066.562869  3243.843078  3374.515171  3573.941185  3827.527110   \n",
              "\n",
              "         ...               2008          2009          2010          2011  \\\n",
              "38       ...        3471.248054   3838.433972   4560.512586   5633.795717   \n",
              "117      ...       39339.297570  40855.175640  44507.676390  48167.997270   \n",
              "249      ...       48401.427340  47001.555350  48375.406950  49793.713520   \n",
              "\n",
              "             2012          2013          2014          2015          2016  \\\n",
              "38    6337.883323   7077.770765   7683.502613   8069.213024   8117.267465   \n",
              "117  48603.476650  40454.447460  38109.412110  34567.745680  38972.340640   \n",
              "249  51450.959110  52782.086510  54696.726170  56443.817240  57588.538070   \n",
              "\n",
              "             2017  \n",
              "38    8826.994096  \n",
              "117  38428.097320  \n",
              "249  59531.661960  \n",
              "\n",
              "[3 rows x 62 columns]"
            ]
          },
          "metadata": {
            "tags": []
          },
          "execution_count": 46
        }
      ]
    },
    {
      "metadata": {
        "id": "SOQLCBxx6B82",
        "colab_type": "code",
        "colab": {}
      },
      "cell_type": "code",
      "source": [
        ""
      ],
      "execution_count": 0,
      "outputs": []
    },
    {
      "metadata": {
        "id": "WHQZoR-n6B84",
        "colab_type": "code",
        "colab": {},
        "outputId": "9bf4e9d7-a77c-40fd-a3b5-638dec25e08d"
      },
      "cell_type": "code",
      "source": [
        "import matplotlib.pyplot as plt\n",
        "type(data_f[data_f.index == 38].values[0][:-1])\n",
        "narry_chn = data_f[data_f.index == 38].values[0][:-1]\n",
        "narry_jpn = data_f[data_f.index == 117].values[0][:-1]\n",
        "narry_usa = data_f[data_f.index == 249].values[0][:-1]\n",
        "df1 = data_f[data_f.index == 38].T\n",
        "\n",
        "df2 = data_f[data_f.index == 117].T\n",
        "df3 = data_f[data_f.index == 249].T\n",
        "d = pd.concat([df1,df2,df3],axis=1)\n",
        "#d.columns = ['Year','CHN','JPN','USA']\n",
        "x = np.arange(1960,2016)\n",
        "plt.plot(x,narry_chn)\n",
        "plt.plot(x,narry_jpn)\n",
        "plt.plot(x,narry_usa)\n",
        "plt.show()\n",
        "print(narry_chn)\n",
        "d_per_change = d.pct_change()\n",
        "print(d_per_change)\n",
        "print(d)\n",
        "d[40:-1].plot()\n",
        "d_per_change[40:-1].plot()"
      ],
      "execution_count": 0,
      "outputs": [
        {
          "output_type": "display_data",
          "data": {
            "image/png": "[encoded data removed]",
            "text/plain": [
              "<Figure size 432x288 with 1 Axes>"
            ]
          },
          "metadata": {
            "tags": []
          }
        },
        {
          "output_type": "stream",
          "text": [
            "[   89.52054151    75.80583793    70.90941167    74.31364345    85.49855516\n",
            "    98.48677775   104.3245662     96.58953194    91.47271831   100.1299033\n",
            "   113.1629916    118.6545778    131.8835612    157.0903743    160.1400937\n",
            "   178.3418196    165.4055404    185.4228329    156.3963885    183.9831522\n",
            "   194.8047222    197.0714745    203.3349195    225.4319289    250.713969\n",
            "   294.4588485    281.9281209    251.811957     283.5376952    310.8819124\n",
            "   317.884673     333.1421454    366.4606923    377.3898395    473.4922787\n",
            "   609.6566792    709.4137551    781.7441643    828.5804793    873.2870617\n",
            "   959.3724836   1053.108243    1148.50829     1288.643252    1508.668098\n",
            "  1753.417829    2099.229435    2695.365917    3471.248054    3838.433972\n",
            "  4560.512586    5633.795717    6337.883323    7077.770765    7683.502613\n",
            "  8069.213024  ]\n",
            "           38        117       249\n",
            "1960       NaN       NaN       NaN\n",
            "1961 -0.153202  0.176602  0.019766\n",
            "1962 -0.064592  0.124300  0.057811\n",
            "1963  0.048008  0.132925  0.040283\n",
            "1964  0.150510  0.164084  0.059098\n",
            "1965  0.151912  0.100663  0.070954\n",
            "1966  0.059275  0.150827  0.083289\n",
            "1967 -0.074144  0.160987  0.045850\n",
            "1968 -0.052975  0.180412  0.082902\n",
            "1969  0.094642  0.150610  0.071599\n",
            "1970  0.130162  0.220755  0.042673\n",
            "1971  0.048528  0.115097  0.071768\n",
            "1972  0.111492  0.305872  0.086510\n",
            "1973  0.191129  0.347416  0.103341\n",
            "1974  0.019414  0.089044  0.074334\n",
            "1975  0.113661  0.070121  0.079755\n",
            "1976 -0.072536  0.115620  0.101193\n",
            "1977  0.121019  0.218935  0.099856\n",
            "1978 -0.156542  0.392383  0.117827\n",
            "1979  0.176390  0.032113  0.104679\n",
            "1980  0.058818  0.039565  0.077133\n",
            "1981  0.011636  0.094655  0.110774\n",
            "1982  0.031783 -0.075590  0.031859\n",
            "1983  0.108673  0.088461  0.077738\n",
            "1984  0.112149  0.053663  0.101074\n",
            "1985  0.174481  0.054601  0.066249\n",
            "1986 -0.042555  0.477115  0.046287\n",
            "1987 -0.106822  0.212332  0.051572\n",
            "1988  0.125990  0.207595  0.068772\n",
            "1989  0.096439 -0.009522  0.066992\n",
            "1990  0.022525  0.022006  0.045023\n",
            "1991  0.047997  0.140607  0.018814\n",
            "1992  0.100013  0.087796  0.044572\n",
            "1993  0.029824  0.136705  0.038124\n",
            "1994  0.254650  0.097933  0.049567\n",
            "1995  0.287575  0.106238  0.036201\n",
            "1996  0.163628 -0.115180  0.044682\n",
            "1997  0.101958 -0.088852  0.050035\n",
            "1998  0.059913 -0.089058  0.043598\n",
            "1999  0.053956  0.129261  0.050737\n",
            "2000  0.098576  0.069545  0.052827\n",
            "2001  0.097705 -0.121602  0.022600\n",
            "2002  0.090589 -0.046005  0.023942\n",
            "2003  0.122015  0.078015  0.039594\n",
            "2004  0.170741  0.082748  0.056572\n",
            "2005  0.162229 -0.012499  0.056918\n",
            "2006  0.197221 -0.047925  0.048053\n",
            "2007  0.283979 -0.004480  0.034982\n",
            "2008  0.287858  0.115210  0.007072\n",
            "2009  0.105779  0.038533 -0.028922\n",
            "2010  0.188118  0.089401  0.029230\n",
            "2011  0.235343  0.082240  0.029319\n",
            "2012  0.124976  0.009041  0.033282\n",
            "2013  0.116740 -0.167664  0.025872\n",
            "2014  0.085582 -0.057967  0.036274\n",
            "2015  0.050200 -0.092934  0.031941\n",
            "2016  0.005955  0.127419  0.020281\n",
            "              38            117           249\n",
            "1960    89.520542    478.995340   3007.123445\n",
            "1961    75.805838    563.586760   3066.562869\n",
            "1962    70.909412    633.640315   3243.843078\n",
            "1963    74.313643    717.866915   3374.515171\n",
            "1964    85.498555    835.657253   3573.941185\n",
            "1965    98.486778    919.776688   3827.527110\n",
            "1966   104.324566   1058.503561   4146.316646\n",
            "1967    96.589532   1228.909210   4336.426587\n",
            "1968    91.472718   1450.619652   4695.923390\n",
            "1969   100.129903   1669.098200   5032.144743\n",
            "1970   113.162992   2037.559901   5246.883717\n",
            "1971   118.654578   2272.077802   5623.443978\n",
            "1972   131.883561   2967.041996   6109.925868\n",
            "1973   157.090374   3997.841120   6741.332364\n",
            "1974   160.140094   4353.824355   7242.441105\n",
            "1975   178.341820   4659.120115   7820.065471\n",
            "1976   165.405540   5197.806697   8611.401839\n",
            "1977   185.422833   6335.787627   9471.306172\n",
            "1978   156.396389   8821.843492  10587.285760\n",
            "1979   183.983152   9105.136097  11695.554420\n",
            "1980   194.804722   9465.379714  12597.667510\n",
            "1981   197.071475  10361.323060  13993.166740\n",
            "1982   203.334920   9578.113803  14438.976280\n",
            "1983   225.431929  10425.406820  15561.426400\n",
            "1984   250.713969  10984.865830  17134.286020\n",
            "1985   294.458848  11584.649330  18269.422170\n",
            "1986   281.928121  17111.853730  19115.052910\n",
            "1987   251.811957  20745.252090  20100.858890\n",
            "1988   283.537695  25051.854320  21483.233060\n",
            "1989   310.881912  24813.299380  22922.437090\n",
            "1990   317.884673  25359.347020  23954.479350\n",
            "1991   333.142145  28925.041580  24405.164810\n",
            "1992   366.460692  31464.549050  25492.951650\n",
            "1993   377.389839  35765.914090  26464.852510\n",
            "1994   473.492279  39268.566870  27776.635530\n",
            "1995   609.656679  43440.367870  28782.175020\n",
            "1996   709.413755  38436.926310  30068.230920\n",
            "1997   781.744164  35021.719090  31572.690230\n",
            "1998   828.580479  31902.767100  32949.197760\n",
            "1999   873.287062  36026.556080  34620.928900\n",
            "2000   959.372484  38532.040880  36449.855120\n",
            "2001  1053.108243  33846.465640  37273.618100\n",
            "2002  1148.508290  32289.350540  38166.037840\n",
            "2003  1288.643252  34808.390920  39677.198350\n",
            "2004  1508.668098  37688.722340  41921.809760\n",
            "2005  1753.417829  37217.648730  44307.920580\n",
            "2006  2099.229435  35433.988960  46437.067120\n",
            "2007  2695.365917  35275.228430  48061.537660\n",
            "2008  3471.248054  39339.297570  48401.427340\n",
            "2009  3838.433972  40855.175640  47001.555350\n",
            "2010  4560.512586  44507.676390  48375.406950\n",
            "2011  5633.795717  48167.997270  49793.713520\n",
            "2012  6337.883323  48603.476650  51450.959110\n",
            "2013  7077.770765  40454.447460  52782.086510\n",
            "2014  7683.502613  38109.412110  54696.726170\n",
            "2015  8069.213024  34567.745680  56443.817240\n",
            "2016  8117.267465  38972.340640  57588.538070\n"
          ],
          "name": "stdout"
        },
        {
          "output_type": "execute_result",
          "data": {
            "text/plain": [
              "<matplotlib.axes._subplots.AxesSubplot at 0x118f490f0>"
            ]
          },
          "metadata": {
            "tags": []
          },
          "execution_count": 88
        },
        {
          "output_type": "display_data",
          "data": {
            "image/png": "[encoded data removed]",
            "text/plain": [
              "<Figure size 432x288 with 1 Axes>"
            ]
          },
          "metadata": {
            "tags": []
          }
        },
        {
          "output_type": "display_data",
          "data": {
            "image/png": "[encoded data removed]",
            "text/plain": [
              "<Figure size 432x288 with 1 Axes>"
            ]
          },
          "metadata": {
            "tags": []
          }
        }
      ]
    },
    {
      "metadata": {
        "scrolled": false,
        "id": "pNEOQgL_6B87",
        "colab_type": "code",
        "colab": {}
      },
      "cell_type": "code",
      "source": [
        "sorted = data.sort_values(by=['2017'], ascending=False)\n",
        "sorted = sorted.reset_index(drop=True)\n",
        "data1 = sorted[['Country Name','2016','2017']]"
      ],
      "execution_count": 0,
      "outputs": []
    },
    {
      "metadata": {
        "id": "9VH754pT6B89",
        "colab_type": "code",
        "colab": {}
      },
      "cell_type": "code",
      "source": [
        ""
      ],
      "execution_count": 0,
      "outputs": []
    }
  ]
}