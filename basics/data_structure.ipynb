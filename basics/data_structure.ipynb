{
 "cells": [
  {
   "cell_type": "code",
   "execution_count": 16,
   "metadata": {},
   "outputs": [
    {
     "name": "stdout",
     "output_type": "stream",
     "text": [
      "[1, 2, 3]\n"
     ]
    }
   ],
   "source": [
    "l = [1, 2, 3]\n",
    "print l"
   ]
  },
  {
   "cell_type": "code",
   "execution_count": 17,
   "metadata": {},
   "outputs": [
    {
     "name": "stdout",
     "output_type": "stream",
     "text": [
      "(1, 2, 3)\n"
     ]
    }
   ],
   "source": [
    "tup = (1,2,3)\n",
    "print tup"
   ]
  },
  {
   "cell_type": "code",
   "execution_count": 18,
   "metadata": {},
   "outputs": [
    {
     "name": "stdout",
     "output_type": "stream",
     "text": [
      "{'key2': 'value2', 'key1': 'value1'}\n"
     ]
    }
   ],
   "source": [
    "dict = {'key1':'value1', 'key2':'value2'}\n",
    "print dict"
   ]
  },
  {
   "cell_type": "code",
   "execution_count": 30,
   "metadata": {},
   "outputs": [
    {
     "name": "stdout",
     "output_type": "stream",
     "text": [
      "[0, 1, 2, 3, 4, 5, 6, 7, 8, 9]\n",
      "[9, 1, 8, 7, 3, 4, 6, 5, 0, 2]\n",
      "['Analysis', 'Welcome', 'Python', 'Course', 'Data', 'to']\n",
      "['Analysis', 'Course', 'Data', 'Python', 'Welcome', 'to']\n"
     ]
    }
   ],
   "source": [
    "import random\n",
    "list = range(10)\n",
    "print list\n",
    "random.shuffle(list)\n",
    "print list\n",
    "list_str = ['Welcome', 'to', 'Python', 'Data', 'Analysis', 'Course']\n",
    "list_str.sort(key=len, reverse=True)\n",
    "print list_str\n",
    "sorted_list = sorted(list_str) #返回新的列表\n",
    "print sorted_list"
   ]
  },
  {
   "cell_type": "code",
   "execution_count": 32,
   "metadata": {},
   "outputs": [
    {
     "name": "stdout",
     "output_type": "stream",
     "text": [
      "[(1, 'a'), (2, 'b'), (3, 'c'), (4, 'd')]\n"
     ]
    }
   ],
   "source": [
    "list_1 = [1,2,3,4]\n",
    "list_2 = ['a','b','c','d','e']\n",
    "zip_list = zip(list_1,list_2)\n",
    "print zip_list"
   ]
  },
  {
   "cell_type": "code",
   "execution_count": 33,
   "metadata": {},
   "outputs": [
    {
     "data": {
      "text/plain": [
       "[(1, 2, 3, 4), ('a', 'b', 'c', 'd')]"
      ]
     },
     "execution_count": 33,
     "metadata": {},
     "output_type": "execute_result"
    }
   ],
   "source": [
    "zip(*zip_list) #unzip"
   ]
  },
  {
   "cell_type": "code",
   "execution_count": 37,
   "metadata": {},
   "outputs": [
    {
     "name": "stdout",
     "output_type": "stream",
     "text": [
      "{'a': 1, 'c': 3, 'b': 2}\n",
      "{'a': 100, 0: 100, 'c': 3, 'b': 2}\n",
      "{'a': 100, 'c': 3, 'b': 2}\n",
      "100\n"
     ]
    }
   ],
   "source": [
    "dict = {'a':1, 'b':2, 'c':3}\n",
    "print dict\n",
    "dict['a'] = 100\n",
    "dict[0] = 100\n",
    "print dict\n",
    "del dict[0]\n",
    "print dict\n",
    "print dict.pop('a')"
   ]
  },
  {
   "cell_type": "code",
   "execution_count": 43,
   "metadata": {},
   "outputs": [
    {
     "name": "stdout",
     "output_type": "stream",
     "text": [
      "{0: 0, 1: 1, 2: 2, 3: 3, 4: 4, 5: 5, 6: 6, 7: 7, 8: 8, 9: 9}\n"
     ]
    }
   ],
   "source": [
    "dict_3 = {}\n",
    "l1 = range(10)\n",
    "l2 = range(10)\n",
    "for i1, i2 in zip(l1, l2):\n",
    "    dict_3[i1] = i2\n",
    "print dict_3\n",
    "#dict_4 = dict(zip(l1, l2))\n",
    "#print dict_4"
   ]
  },
  {
   "cell_type": "code",
   "execution_count": 51,
   "metadata": {},
   "outputs": [
    {
     "name": "stdout",
     "output_type": "stream",
     "text": [
      "set([0, 1, 2, 3, 4, 5, 6, 7, 8, 9, 10, 11, 12, 13, 14])\n",
      "set([8, 9, 5, 6, 7])\n",
      "set([0, 1, 2, 3, 4])\n",
      "set([0, 1, 2, 3, 4, 10, 11, 12, 13, 14])\n"
     ]
    },
    {
     "data": {
      "text/plain": [
       "False"
      ]
     },
     "execution_count": 51,
     "metadata": {},
     "output_type": "execute_result"
    }
   ],
   "source": [
    "a = set(range(10))\n",
    "b = set(range(5,15))\n",
    "print a | b\n",
    "print a & b\n",
    "print a - b\n",
    "print a ^ b\n",
    "a.issubset(b)"
   ]
  },
  {
   "cell_type": "code",
   "execution_count": 45,
   "metadata": {},
   "outputs": [],
   "source": []
  },
  {
   "cell_type": "code",
   "execution_count": null,
   "metadata": {},
   "outputs": [],
   "source": []
  }
 ],
 "metadata": {
  "kernelspec": {
   "display_name": "Python 2",
   "language": "python",
   "name": "python2"
  },
  "language_info": {
   "codemirror_mode": {
    "name": "ipython",
    "version": 2
   },
   "file_extension": ".py",
   "mimetype": "text/x-python",
   "name": "python",
   "nbconvert_exporter": "python",
   "pygments_lexer": "ipython2",
   "version": "2.7.15"
  }
 },
 "nbformat": 4,
 "nbformat_minor": 2
}
