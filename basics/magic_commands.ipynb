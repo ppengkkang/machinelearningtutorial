{
 "cells": [
  {
   "cell_type": "markdown",
   "metadata": {},
   "source": [
    "### %timeit : 执行多次计算平均时间 in line mode\n",
    "### %%timeit : 执行多次计算平均时间 in cell mode\n",
    "### %time : 执行单次时间 in line mode\n",
    "### %%time : 执行单次时间 in cell mode"
   ]
  },
  {
   "cell_type": "code",
   "execution_count": 12,
   "metadata": {},
   "outputs": [
    {
     "name": "stdout",
     "output_type": "stream",
     "text": [
      "100000 loops, best of 3: 19.3 µs per loop\n"
     ]
    }
   ],
   "source": [
    "%%timeit \n",
    "result = [i for i in range(100) if i%3==0]\n",
    "result1 = [i for i in range(100) if i%3==0]"
   ]
  },
  {
   "cell_type": "code",
   "execution_count": 15,
   "metadata": {},
   "outputs": [
    {
     "name": "stdout",
     "output_type": "stream",
     "text": [
      "100000 loops, best of 3: 19.1 µs per loop\n"
     ]
    }
   ],
   "source": [
    "%timeit result2 = [i for i in range(100) if i%3==0]"
   ]
  },
  {
   "cell_type": "code",
   "execution_count": null,
   "metadata": {},
   "outputs": [],
   "source": []
  },
  {
   "cell_type": "code",
   "execution_count": null,
   "metadata": {},
   "outputs": [],
   "source": []
  }
 ],
 "metadata": {
  "kernelspec": {
   "display_name": "Python 2",
   "language": "python",
   "name": "python2"
  },
  "language_info": {
   "codemirror_mode": {
    "name": "ipython",
    "version": 2
   },
   "file_extension": ".py",
   "mimetype": "text/x-python",
   "name": "python",
   "nbconvert_exporter": "python",
   "pygments_lexer": "ipython2",
   "version": "2.7.15"
  }
 },
 "nbformat": 4,
 "nbformat_minor": 2
}
