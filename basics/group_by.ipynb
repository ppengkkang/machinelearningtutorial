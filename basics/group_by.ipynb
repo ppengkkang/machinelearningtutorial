{
 "cells": [
  {
   "cell_type": "code",
   "execution_count": 1,
   "metadata": {},
   "outputs": [],
   "source": [
    "import numpy as np\n",
    "import pandas as pd"
   ]
  },
  {
   "cell_type": "code",
   "execution_count": 13,
   "metadata": {},
   "outputs": [
    {
     "name": "stdout",
     "output_type": "stream",
     "text": [
      "      data1     data2     data3 key1   key2   key3\n",
      "0 -1.777459 -0.234497 -1.340862    a    one    one\n",
      "1 -0.304816 -1.758536 -0.870536    b    one    one\n",
      "2  2.182710  0.193904  0.935436    a    two    two\n",
      "3  1.171119  2.163266 -0.344292    b  three  three\n",
      "4  0.853727 -0.178018  1.147939    a    two    two\n",
      "5 -0.129540 -0.770006 -1.778420    b    two    two\n",
      "6  0.072395 -1.187717 -1.946689    a    one    one\n",
      "7  0.223553  2.248856 -2.527581    a  three  three\n"
     ]
    }
   ],
   "source": [
    "dict_obj = {'key1' : ['a', 'b', 'a', 'b', \n",
    "                      'a', 'b', 'a', 'a'],\n",
    "            'key2' : ['one', 'one', 'two', 'three',\n",
    "                      'two', 'two', 'one', 'three'],\n",
    "                        'key3' : ['one', 'one', 'two', 'three',\n",
    "                      'two', 'two', 'one', 'three'],\n",
    "            'data1': np.random.randn(8),\n",
    "            'data2': np.random.randn(8),\n",
    "            'data3': np.random.randn(8)}\n",
    "df_obj = pd.DataFrame(dict_obj)\n",
    "print df_obj"
   ]
  },
  {
   "cell_type": "code",
   "execution_count": 14,
   "metadata": {},
   "outputs": [
    {
     "data": {
      "text/plain": [
       "key2\n",
       "one      3\n",
       "three    2\n",
       "two      3\n",
       "dtype: int64"
      ]
     },
     "execution_count": 14,
     "metadata": {},
     "output_type": "execute_result"
    }
   ],
   "source": [
    "group_by_obj = df_obj.groupby('key2')\n",
    "type(group_by_obj)\n",
    "group_by_obj.size()"
   ]
  },
  {
   "cell_type": "code",
   "execution_count": 15,
   "metadata": {},
   "outputs": [
    {
     "name": "stdout",
     "output_type": "stream",
     "text": [
      "<class 'pandas.core.groupby.groupby.SeriesGroupBy'>\n"
     ]
    },
    {
     "data": {
      "text/plain": [
       "key1\n",
       "a    5\n",
       "b    3\n",
       "Name: data1, dtype: int64"
      ]
     },
     "execution_count": 15,
     "metadata": {},
     "output_type": "execute_result"
    }
   ],
   "source": [
    "group_by_obj_series = df_obj['data1'].groupby(df_obj['key1'])\n",
    "print type(group_by_obj_series)\n",
    "group_by_obj_series.size()"
   ]
  },
  {
   "cell_type": "code",
   "execution_count": 16,
   "metadata": {},
   "outputs": [
    {
     "data": {
      "text/html": [
       "<div>\n",
       "<style scoped>\n",
       "    .dataframe tbody tr th:only-of-type {\n",
       "        vertical-align: middle;\n",
       "    }\n",
       "\n",
       "    .dataframe tbody tr th {\n",
       "        vertical-align: top;\n",
       "    }\n",
       "\n",
       "    .dataframe thead th {\n",
       "        text-align: right;\n",
       "    }\n",
       "</style>\n",
       "<table border=\"1\" class=\"dataframe\">\n",
       "  <thead>\n",
       "    <tr style=\"text-align: right;\">\n",
       "      <th></th>\n",
       "      <th>data1</th>\n",
       "      <th>data2</th>\n",
       "      <th>data3</th>\n",
       "    </tr>\n",
       "    <tr>\n",
       "      <th>key1</th>\n",
       "      <th></th>\n",
       "      <th></th>\n",
       "      <th></th>\n",
       "    </tr>\n",
       "  </thead>\n",
       "  <tbody>\n",
       "    <tr>\n",
       "      <th>a</th>\n",
       "      <td>0.310985</td>\n",
       "      <td>0.168506</td>\n",
       "      <td>-0.746351</td>\n",
       "    </tr>\n",
       "    <tr>\n",
       "      <th>b</th>\n",
       "      <td>0.245587</td>\n",
       "      <td>-0.121758</td>\n",
       "      <td>-0.997749</td>\n",
       "    </tr>\n",
       "  </tbody>\n",
       "</table>\n",
       "</div>"
      ],
      "text/plain": [
       "         data1     data2     data3\n",
       "key1                              \n",
       "a     0.310985  0.168506 -0.746351\n",
       "b     0.245587 -0.121758 -0.997749"
      ]
     },
     "execution_count": 16,
     "metadata": {},
     "output_type": "execute_result"
    }
   ],
   "source": [
    "group_by_df_obj = df_obj.groupby('key1')\n",
    "group_by_df_obj.size()\n",
    "group_by_df_obj.mean()"
   ]
  },
  {
   "cell_type": "code",
   "execution_count": 17,
   "metadata": {},
   "outputs": [
    {
     "name": "stdout",
     "output_type": "stream",
     "text": [
      "      data1     data2     data3 key1   key2   key3\n",
      "0 -1.777459 -0.234497 -1.340862    a    one    one\n",
      "1 -0.304816 -1.758536 -0.870536    b    one    one\n",
      "2  2.182710  0.193904  0.935436    a    two    two\n",
      "3  1.171119  2.163266 -0.344292    b  three  three\n",
      "4  0.853727 -0.178018  1.147939    a    two    two\n",
      "5 -0.129540 -0.770006 -1.778420    b    two    two\n",
      "6  0.072395 -1.187717 -1.946689    a    one    one\n",
      "7  0.223553  2.248856 -2.527581    a  three  three\n"
     ]
    },
    {
     "data": {
      "text/plain": [
       "1    5\n",
       "2    3\n",
       "dtype: int64"
      ]
     },
     "execution_count": 17,
     "metadata": {},
     "output_type": "execute_result"
    }
   ],
   "source": [
    "# 按自定义key分组，列表\n",
    "print df_obj\n",
    "self_def_key = [1, 1, 2, 2, 2, 1, 1, 1]\n",
    "df_obj.groupby(self_def_key).size()"
   ]
  },
  {
   "cell_type": "code",
   "execution_count": 26,
   "metadata": {},
   "outputs": [
    {
     "data": {
      "text/plain": [
       "key1  key2   key3 \n",
       "a     one    one      2\n",
       "      three  three    1\n",
       "      two    two      2\n",
       "b     one    one      1\n",
       "      three  three    1\n",
       "      two    two      1\n",
       "dtype: int64"
      ]
     },
     "execution_count": 26,
     "metadata": {},
     "output_type": "execute_result"
    }
   ],
   "source": [
    "group_by_multi1 = df_obj.groupby([df_obj['key1'], df_obj['key2'],df_obj['key3']])\n",
    "group_by_multi2 = df_obj.groupby(['key1','key2','key3'])\n",
    "group_by_multi1.size()\n",
    "group_by_multi2.size()"
   ]
  },
  {
   "cell_type": "code",
   "execution_count": 27,
   "metadata": {},
   "outputs": [
    {
     "data": {
      "text/html": [
       "<div>\n",
       "<style scoped>\n",
       "    .dataframe tbody tr th:only-of-type {\n",
       "        vertical-align: middle;\n",
       "    }\n",
       "\n",
       "    .dataframe tbody tr th {\n",
       "        vertical-align: top;\n",
       "    }\n",
       "\n",
       "    .dataframe thead th {\n",
       "        text-align: right;\n",
       "    }\n",
       "</style>\n",
       "<table border=\"1\" class=\"dataframe\">\n",
       "  <thead>\n",
       "    <tr style=\"text-align: right;\">\n",
       "      <th></th>\n",
       "      <th></th>\n",
       "      <th></th>\n",
       "      <th>data1</th>\n",
       "      <th>data2</th>\n",
       "      <th>data3</th>\n",
       "    </tr>\n",
       "    <tr>\n",
       "      <th>key1</th>\n",
       "      <th>key2</th>\n",
       "      <th>key3</th>\n",
       "      <th></th>\n",
       "      <th></th>\n",
       "      <th></th>\n",
       "    </tr>\n",
       "  </thead>\n",
       "  <tbody>\n",
       "    <tr>\n",
       "      <th rowspan=\"3\" valign=\"top\">a</th>\n",
       "      <th>one</th>\n",
       "      <th>one</th>\n",
       "      <td>-0.852532</td>\n",
       "      <td>-0.711107</td>\n",
       "      <td>-1.643775</td>\n",
       "    </tr>\n",
       "    <tr>\n",
       "      <th>three</th>\n",
       "      <th>three</th>\n",
       "      <td>0.223553</td>\n",
       "      <td>2.248856</td>\n",
       "      <td>-2.527581</td>\n",
       "    </tr>\n",
       "    <tr>\n",
       "      <th>two</th>\n",
       "      <th>two</th>\n",
       "      <td>1.518218</td>\n",
       "      <td>0.007943</td>\n",
       "      <td>1.041687</td>\n",
       "    </tr>\n",
       "    <tr>\n",
       "      <th rowspan=\"3\" valign=\"top\">b</th>\n",
       "      <th>one</th>\n",
       "      <th>one</th>\n",
       "      <td>-0.304816</td>\n",
       "      <td>-1.758536</td>\n",
       "      <td>-0.870536</td>\n",
       "    </tr>\n",
       "    <tr>\n",
       "      <th>three</th>\n",
       "      <th>three</th>\n",
       "      <td>1.171119</td>\n",
       "      <td>2.163266</td>\n",
       "      <td>-0.344292</td>\n",
       "    </tr>\n",
       "    <tr>\n",
       "      <th>two</th>\n",
       "      <th>two</th>\n",
       "      <td>-0.129540</td>\n",
       "      <td>-0.770006</td>\n",
       "      <td>-1.778420</td>\n",
       "    </tr>\n",
       "  </tbody>\n",
       "</table>\n",
       "</div>"
      ],
      "text/plain": [
       "                     data1     data2     data3\n",
       "key1 key2  key3                               \n",
       "a    one   one   -0.852532 -0.711107 -1.643775\n",
       "     three three  0.223553  2.248856 -2.527581\n",
       "     two   two    1.518218  0.007943  1.041687\n",
       "b    one   one   -0.304816 -1.758536 -0.870536\n",
       "     three three  1.171119  2.163266 -0.344292\n",
       "     two   two   -0.129540 -0.770006 -1.778420"
      ]
     },
     "execution_count": 27,
     "metadata": {},
     "output_type": "execute_result"
    }
   ],
   "source": [
    "group_by_multi1.mean()"
   ]
  },
  {
   "cell_type": "code",
   "execution_count": 29,
   "metadata": {},
   "outputs": [
    {
     "data": {
      "text/html": [
       "<div>\n",
       "<style scoped>\n",
       "    .dataframe tbody tr th:only-of-type {\n",
       "        vertical-align: middle;\n",
       "    }\n",
       "\n",
       "    .dataframe tbody tr th {\n",
       "        vertical-align: top;\n",
       "    }\n",
       "\n",
       "    .dataframe thead tr th {\n",
       "        text-align: left;\n",
       "    }\n",
       "\n",
       "    .dataframe thead tr:last-of-type th {\n",
       "        text-align: right;\n",
       "    }\n",
       "</style>\n",
       "<table border=\"1\" class=\"dataframe\">\n",
       "  <thead>\n",
       "    <tr>\n",
       "      <th></th>\n",
       "      <th colspan=\"9\" halign=\"left\">data1</th>\n",
       "      <th colspan=\"3\" halign=\"left\">data2</th>\n",
       "      <th colspan=\"9\" halign=\"left\">data3</th>\n",
       "    </tr>\n",
       "    <tr>\n",
       "      <th>key3</th>\n",
       "      <th colspan=\"3\" halign=\"left\">one</th>\n",
       "      <th colspan=\"3\" halign=\"left\">three</th>\n",
       "      <th colspan=\"3\" halign=\"left\">two</th>\n",
       "      <th>one</th>\n",
       "      <th>...</th>\n",
       "      <th>two</th>\n",
       "      <th colspan=\"3\" halign=\"left\">one</th>\n",
       "      <th colspan=\"3\" halign=\"left\">three</th>\n",
       "      <th colspan=\"3\" halign=\"left\">two</th>\n",
       "    </tr>\n",
       "    <tr>\n",
       "      <th>key2</th>\n",
       "      <th>one</th>\n",
       "      <th>three</th>\n",
       "      <th>two</th>\n",
       "      <th>one</th>\n",
       "      <th>three</th>\n",
       "      <th>two</th>\n",
       "      <th>one</th>\n",
       "      <th>three</th>\n",
       "      <th>two</th>\n",
       "      <th>one</th>\n",
       "      <th>...</th>\n",
       "      <th>two</th>\n",
       "      <th>one</th>\n",
       "      <th>three</th>\n",
       "      <th>two</th>\n",
       "      <th>one</th>\n",
       "      <th>three</th>\n",
       "      <th>two</th>\n",
       "      <th>one</th>\n",
       "      <th>three</th>\n",
       "      <th>two</th>\n",
       "    </tr>\n",
       "    <tr>\n",
       "      <th>key1</th>\n",
       "      <th></th>\n",
       "      <th></th>\n",
       "      <th></th>\n",
       "      <th></th>\n",
       "      <th></th>\n",
       "      <th></th>\n",
       "      <th></th>\n",
       "      <th></th>\n",
       "      <th></th>\n",
       "      <th></th>\n",
       "      <th></th>\n",
       "      <th></th>\n",
       "      <th></th>\n",
       "      <th></th>\n",
       "      <th></th>\n",
       "      <th></th>\n",
       "      <th></th>\n",
       "      <th></th>\n",
       "      <th></th>\n",
       "      <th></th>\n",
       "      <th></th>\n",
       "    </tr>\n",
       "  </thead>\n",
       "  <tbody>\n",
       "    <tr>\n",
       "      <th>a</th>\n",
       "      <td>-0.852532</td>\n",
       "      <td>NaN</td>\n",
       "      <td>NaN</td>\n",
       "      <td>NaN</td>\n",
       "      <td>0.223553</td>\n",
       "      <td>NaN</td>\n",
       "      <td>NaN</td>\n",
       "      <td>NaN</td>\n",
       "      <td>1.518218</td>\n",
       "      <td>-0.711107</td>\n",
       "      <td>...</td>\n",
       "      <td>0.007943</td>\n",
       "      <td>-1.643775</td>\n",
       "      <td>NaN</td>\n",
       "      <td>NaN</td>\n",
       "      <td>NaN</td>\n",
       "      <td>-2.527581</td>\n",
       "      <td>NaN</td>\n",
       "      <td>NaN</td>\n",
       "      <td>NaN</td>\n",
       "      <td>1.041687</td>\n",
       "    </tr>\n",
       "    <tr>\n",
       "      <th>b</th>\n",
       "      <td>-0.304816</td>\n",
       "      <td>NaN</td>\n",
       "      <td>NaN</td>\n",
       "      <td>NaN</td>\n",
       "      <td>1.171119</td>\n",
       "      <td>NaN</td>\n",
       "      <td>NaN</td>\n",
       "      <td>NaN</td>\n",
       "      <td>-0.129540</td>\n",
       "      <td>-1.758536</td>\n",
       "      <td>...</td>\n",
       "      <td>-0.770006</td>\n",
       "      <td>-0.870536</td>\n",
       "      <td>NaN</td>\n",
       "      <td>NaN</td>\n",
       "      <td>NaN</td>\n",
       "      <td>-0.344292</td>\n",
       "      <td>NaN</td>\n",
       "      <td>NaN</td>\n",
       "      <td>NaN</td>\n",
       "      <td>-1.778420</td>\n",
       "    </tr>\n",
       "  </tbody>\n",
       "</table>\n",
       "<p>2 rows × 27 columns</p>\n",
       "</div>"
      ],
      "text/plain": [
       "         data1                                                       data2  \\\n",
       "key3       one           three               two                       one   \n",
       "key2       one three two   one     three two one three       two       one   \n",
       "key1                                                                         \n",
       "a    -0.852532   NaN NaN   NaN  0.223553 NaN NaN   NaN  1.518218 -0.711107   \n",
       "b    -0.304816   NaN NaN   NaN  1.171119 NaN NaN   NaN -0.129540 -1.758536   \n",
       "\n",
       "        ...                  data3                                          \\\n",
       "key3    ...          two       one           three               two         \n",
       "key2    ...          two       one three two   one     three two one three   \n",
       "key1    ...                                                                  \n",
       "a       ...     0.007943 -1.643775   NaN NaN   NaN -2.527581 NaN NaN   NaN   \n",
       "b       ...    -0.770006 -0.870536   NaN NaN   NaN -0.344292 NaN NaN   NaN   \n",
       "\n",
       "                \n",
       "key3            \n",
       "key2       two  \n",
       "key1            \n",
       "a     1.041687  \n",
       "b    -1.778420  \n",
       "\n",
       "[2 rows x 27 columns]"
      ]
     },
     "execution_count": 29,
     "metadata": {},
     "output_type": "execute_result"
    }
   ],
   "source": [
    "group_by_multi1.mean().unstack().unstack()"
   ]
  },
  {
   "cell_type": "code",
   "execution_count": 30,
   "metadata": {},
   "outputs": [
    {
     "name": "stdout",
     "output_type": "stream",
     "text": [
      "('a', 'one', 'one')\n",
      "      data1     data2     data3 key1 key2 key3\n",
      "0 -1.777459 -0.234497 -1.340862    a  one  one\n",
      "6  0.072395 -1.187717 -1.946689    a  one  one\n",
      "('a', 'three', 'three')\n",
      "      data1     data2     data3 key1   key2   key3\n",
      "7  0.223553  2.248856 -2.527581    a  three  three\n",
      "('a', 'two', 'two')\n",
      "      data1     data2     data3 key1 key2 key3\n",
      "2  2.182710  0.193904  0.935436    a  two  two\n",
      "4  0.853727 -0.178018  1.147939    a  two  two\n",
      "('b', 'one', 'one')\n",
      "      data1     data2     data3 key1 key2 key3\n",
      "1 -0.304816 -1.758536 -0.870536    b  one  one\n",
      "('b', 'three', 'three')\n",
      "      data1     data2     data3 key1   key2   key3\n",
      "3  1.171119  2.163266 -0.344292    b  three  three\n",
      "('b', 'two', 'two')\n",
      "     data1     data2    data3 key1 key2 key3\n",
      "5 -0.12954 -0.770006 -1.77842    b  two  two\n"
     ]
    }
   ],
   "source": [
    "# 多层分组\n",
    "for group_name, group_data in group_by_multi1:\n",
    "    print group_name\n",
    "    print group_data"
   ]
  },
  {
   "cell_type": "code",
   "execution_count": 31,
   "metadata": {},
   "outputs": [
    {
     "data": {
      "text/plain": [
       "[(('a', 'one', 'one'),       data1     data2     data3 key1 key2 key3\n",
       "  0 -1.777459 -0.234497 -1.340862    a  one  one\n",
       "  6  0.072395 -1.187717 -1.946689    a  one  one),\n",
       " (('a', 'three', 'three'),       data1     data2     data3 key1   key2   key3\n",
       "  7  0.223553  2.248856 -2.527581    a  three  three),\n",
       " (('a', 'two', 'two'),       data1     data2     data3 key1 key2 key3\n",
       "  2  2.182710  0.193904  0.935436    a  two  two\n",
       "  4  0.853727 -0.178018  1.147939    a  two  two),\n",
       " (('b', 'one', 'one'),       data1     data2     data3 key1 key2 key3\n",
       "  1 -0.304816 -1.758536 -0.870536    b  one  one),\n",
       " (('b', 'three', 'three'),       data1     data2     data3 key1   key2   key3\n",
       "  3  1.171119  2.163266 -0.344292    b  three  three),\n",
       " (('b', 'two', 'two'),      data1     data2    data3 key1 key2 key3\n",
       "  5 -0.12954 -0.770006 -1.77842    b  two  two)]"
      ]
     },
     "execution_count": 31,
     "metadata": {},
     "output_type": "execute_result"
    }
   ],
   "source": [
    "list(group_by_multi1)"
   ]
  },
  {
   "cell_type": "code",
   "execution_count": 38,
   "metadata": {},
   "outputs": [
    {
     "name": "stdout",
     "output_type": "stream",
     "text": [
      "[      data1     data2     data3 key1 key2 key3\n",
      "1 -0.304816 -1.758536 -0.870536    b  one  one,       data1     data2     data3 key1 key2 key3\n",
      "0 -1.777459 -0.234497 -1.340862    a  one  one\n",
      "6  0.072395 -1.187717 -1.946689    a  one  one,       data1     data2     data3 key1 key2 key3\n",
      "2  2.182710  0.193904  0.935436    a  two  two\n",
      "4  0.853727 -0.178018  1.147939    a  two  two,      data1     data2    data3 key1 key2 key3\n",
      "5 -0.12954 -0.770006 -1.77842    b  two  two,       data1     data2     data3 key1   key2   key3\n",
      "7  0.223553  2.248856 -2.527581    a  three  three,       data1     data2     data3 key1   key2   key3\n",
      "3  1.171119  2.163266 -0.344292    b  three  three]\n"
     ]
    },
    {
     "data": {
      "text/plain": [
       "list"
      ]
     },
     "execution_count": 38,
     "metadata": {},
     "output_type": "execute_result"
    }
   ],
   "source": [
    "print dict(list(group_by_multi1)).values()\n",
    "type(dict(list(group_by_multi1)).values())"
   ]
  },
  {
   "cell_type": "code",
   "execution_count": 42,
   "metadata": {},
   "outputs": [
    {
     "name": "stdout",
     "output_type": "stream",
     "text": [
      "data1    float64\n",
      "data2    float64\n",
      "data3    float64\n",
      "key1      object\n",
      "key2      object\n",
      "key3      object\n",
      "dtype: object\n",
      "      data1     data2     data3 key1   key2   key3\n",
      "0 -1.777459 -0.234497 -1.340862    a    one    one\n",
      "1 -0.304816 -1.758536 -0.870536    b    one    one\n",
      "2  2.182710  0.193904  0.935436    a    two    two\n",
      "3  1.171119  2.163266 -0.344292    b  three  three\n",
      "4  0.853727 -0.178018  1.147939    a    two    two\n",
      "5 -0.129540 -0.770006 -1.778420    b    two    two\n",
      "6  0.072395 -1.187717 -1.946689    a    one    one\n",
      "7  0.223553  2.248856 -2.527581    a  three  three\n",
      "float64    3\n",
      "object     3\n",
      "dtype: int64\n"
     ]
    },
    {
     "data": {
      "text/html": [
       "<div>\n",
       "<style scoped>\n",
       "    .dataframe tbody tr th:only-of-type {\n",
       "        vertical-align: middle;\n",
       "    }\n",
       "\n",
       "    .dataframe tbody tr th {\n",
       "        vertical-align: top;\n",
       "    }\n",
       "\n",
       "    .dataframe thead th {\n",
       "        text-align: right;\n",
       "    }\n",
       "</style>\n",
       "<table border=\"1\" class=\"dataframe\">\n",
       "  <thead>\n",
       "    <tr style=\"text-align: right;\">\n",
       "      <th></th>\n",
       "      <th>float64</th>\n",
       "      <th>object</th>\n",
       "    </tr>\n",
       "  </thead>\n",
       "  <tbody>\n",
       "    <tr>\n",
       "      <th>0</th>\n",
       "      <td>-3.352818</td>\n",
       "      <td>aoneone</td>\n",
       "    </tr>\n",
       "    <tr>\n",
       "      <th>1</th>\n",
       "      <td>-2.933888</td>\n",
       "      <td>boneone</td>\n",
       "    </tr>\n",
       "    <tr>\n",
       "      <th>2</th>\n",
       "      <td>3.312050</td>\n",
       "      <td>atwotwo</td>\n",
       "    </tr>\n",
       "    <tr>\n",
       "      <th>3</th>\n",
       "      <td>2.990093</td>\n",
       "      <td>bthreethree</td>\n",
       "    </tr>\n",
       "    <tr>\n",
       "      <th>4</th>\n",
       "      <td>1.823648</td>\n",
       "      <td>atwotwo</td>\n",
       "    </tr>\n",
       "    <tr>\n",
       "      <th>5</th>\n",
       "      <td>-2.677966</td>\n",
       "      <td>btwotwo</td>\n",
       "    </tr>\n",
       "    <tr>\n",
       "      <th>6</th>\n",
       "      <td>-3.062011</td>\n",
       "      <td>aoneone</td>\n",
       "    </tr>\n",
       "    <tr>\n",
       "      <th>7</th>\n",
       "      <td>-0.055171</td>\n",
       "      <td>athreethree</td>\n",
       "    </tr>\n",
       "  </tbody>\n",
       "</table>\n",
       "</div>"
      ],
      "text/plain": [
       "    float64       object\n",
       "0 -3.352818      aoneone\n",
       "1 -2.933888      boneone\n",
       "2  3.312050      atwotwo\n",
       "3  2.990093  bthreethree\n",
       "4  1.823648      atwotwo\n",
       "5 -2.677966      btwotwo\n",
       "6 -3.062011      aoneone\n",
       "7 -0.055171  athreethree"
      ]
     },
     "execution_count": 42,
     "metadata": {},
     "output_type": "execute_result"
    }
   ],
   "source": [
    "# 按列分组\n",
    "print df_obj.dtypes\n",
    "\n",
    "# 按数据类型分组\n",
    "print df_obj\n",
    "print df_obj.groupby(df_obj.dtypes, axis=1).size()\n",
    "df_obj.groupby(df_obj.dtypes, axis=1).sum()"
   ]
  },
  {
   "cell_type": "code",
   "execution_count": null,
   "metadata": {},
   "outputs": [],
   "source": []
  }
 ],
 "metadata": {
  "kernelspec": {
   "display_name": "Python 2",
   "language": "python",
   "name": "python2"
  },
  "language_info": {
   "codemirror_mode": {
    "name": "ipython",
    "version": 2
   },
   "file_extension": ".py",
   "mimetype": "text/x-python",
   "name": "python",
   "nbconvert_exporter": "python",
   "pygments_lexer": "ipython2",
   "version": "2.7.15"
  }
 },
 "nbformat": 4,
 "nbformat_minor": 2
}
