{
 "cells": [
  {
   "cell_type": "code",
   "execution_count": 1,
   "metadata": {},
   "outputs": [],
   "source": [
    "import numpy as np\n",
    "import pandas as pd"
   ]
  },
  {
   "cell_type": "code",
   "execution_count": 2,
   "metadata": {},
   "outputs": [
    {
     "name": "stdout",
     "output_type": "stream",
     "text": [
      "      data1     data2     data3 key1   key2\n",
      "0 -0.035990  0.271600 -1.130701    a    one\n",
      "1 -0.375998  1.155759 -0.122179    b    one\n",
      "2  1.631139 -1.274438 -1.180855    a    two\n",
      "3 -1.742257 -1.000705  1.382652    b  three\n",
      "4  1.227836 -0.564577 -0.316303    a    two\n",
      "5 -0.072072  1.498826 -0.228143    b    two\n",
      "6  0.209546  0.101483  0.580617    a    one\n",
      "7 -1.898942  0.489806 -1.211754    a  three\n"
     ]
    }
   ],
   "source": [
    "dict_obj = {'key1' : ['a', 'b', 'a', 'b', \n",
    "                      'a', 'b', 'a', 'a'],\n",
    "            'key2' : ['one', 'one', 'two', 'three',\n",
    "                      'two', 'two', 'one', 'three'],\n",
    "            'data1': np.random.randn(8),\n",
    "            'data2': np.random.randn(8),\n",
    "            'data3': np.random.randn(8)}\n",
    "df_obj = pd.DataFrame(dict_obj)\n",
    "print df_obj"
   ]
  },
  {
   "cell_type": "code",
   "execution_count": 4,
   "metadata": {},
   "outputs": [
    {
     "data": {
      "text/plain": [
       "key2\n",
       "one      3\n",
       "three    2\n",
       "two      3\n",
       "dtype: int64"
      ]
     },
     "execution_count": 4,
     "metadata": {},
     "output_type": "execute_result"
    }
   ],
   "source": [
    "group_by_obj = df_obj.groupby('key2')\n",
    "type(group_by_obj)\n",
    "group_by_obj.size()"
   ]
  },
  {
   "cell_type": "code",
   "execution_count": null,
   "metadata": {},
   "outputs": [],
   "source": []
  }
 ],
 "metadata": {
  "kernelspec": {
   "display_name": "Python 2",
   "language": "python",
   "name": "python2"
  },
  "language_info": {
   "codemirror_mode": {
    "name": "ipython",
    "version": 2
   },
   "file_extension": ".py",
   "mimetype": "text/x-python",
   "name": "python",
   "nbconvert_exporter": "python",
   "pygments_lexer": "ipython2",
   "version": "2.7.15"
  }
 },
 "nbformat": 4,
 "nbformat_minor": 2
}
