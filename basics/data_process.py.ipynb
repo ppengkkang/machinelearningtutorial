{
 "cells": [
  {
   "cell_type": "code",
   "execution_count": 5,
   "metadata": {},
   "outputs": [
    {
     "name": "stdout",
     "output_type": "stream",
     "text": [
      "          a         b         c         d\n",
      "0 -2.000554 -0.870743  0.286961  0.101772\n",
      "1 -0.378945 -0.680729  1.190130  0.705946\n",
      "2 -0.672821  0.437251  0.850766  0.816064\n",
      "3 -1.380063  1.469604 -1.076405 -0.090822\n",
      "4  1.303311 -0.497071  0.933407  0.680285\n"
     ]
    }
   ],
   "source": [
    "import pandas as pd\n",
    "import numpy as np\n",
    "\n",
    "df_obj = pd.DataFrame(np.random.randn(5,4), columns = ['a', 'b', 'c', 'd'])\n",
    "print df_obj.head()"
   ]
  },
  {
   "cell_type": "code",
   "execution_count": 6,
   "metadata": {},
   "outputs": [
    {
     "name": "stdout",
     "output_type": "stream",
     "text": [
      "          a         c\n",
      "0 -2.000554  0.286961\n",
      "1 -0.378945  1.190130\n",
      "2 -0.672821  0.850766\n",
      "3 -1.380063 -1.076405\n",
      "4  1.303311  0.933407\n"
     ]
    }
   ],
   "source": [
    "print df_obj[['a','c']]"
   ]
  },
  {
   "cell_type": "code",
   "execution_count": 8,
   "metadata": {},
   "outputs": [
    {
     "name": "stdout",
     "output_type": "stream",
     "text": [
      "0   -2.000554\n",
      "1   -0.378945\n",
      "2   -0.672821\n",
      "Name: a, dtype: float64\n"
     ]
    }
   ],
   "source": [
    "print df_obj.loc[0:2, 'a']"
   ]
  },
  {
   "cell_type": "code",
   "execution_count": 9,
   "metadata": {},
   "outputs": [
    {
     "name": "stdout",
     "output_type": "stream",
     "text": [
      "0   -2.000554\n",
      "1   -0.378945\n",
      "Name: a, dtype: float64\n"
     ]
    }
   ],
   "source": [
    "print df_obj.iloc[0:2, 0]"
   ]
  },
  {
   "cell_type": "code",
   "execution_count": null,
   "metadata": {},
   "outputs": [],
   "source": []
  }
 ],
 "metadata": {
  "kernelspec": {
   "display_name": "Python 2",
   "language": "python",
   "name": "python2"
  },
  "language_info": {
   "codemirror_mode": {
    "name": "ipython",
    "version": 2
   },
   "file_extension": ".py",
   "mimetype": "text/x-python",
   "name": "python",
   "nbconvert_exporter": "python",
   "pygments_lexer": "ipython2",
   "version": "2.7.15"
  }
 },
 "nbformat": 4,
 "nbformat_minor": 2
}
